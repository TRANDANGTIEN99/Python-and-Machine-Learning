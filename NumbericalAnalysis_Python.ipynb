{
  "nbformat": 4,
  "nbformat_minor": 0,
  "metadata": {
    "colab": {
      "provenance": [],
      "authorship_tag": "ABX9TyNfLAwo/Nxe3BzF/SjnIUrn",
      "include_colab_link": true
    },
    "kernelspec": {
      "name": "python3",
      "display_name": "Python 3"
    },
    "language_info": {
      "name": "python"
    }
  },
  "cells": [
    {
      "cell_type": "markdown",
      "metadata": {
        "id": "view-in-github",
        "colab_type": "text"
      },
      "source": [
        "<a href=\"https://colab.research.google.com/github/TRANDANGTIEN99/Python-and-Machine-Learning/blob/main/NumbericalAnalysis_Python.ipynb\" target=\"_parent\"><img src=\"https://colab.research.google.com/assets/colab-badge.svg\" alt=\"Open In Colab\"/></a>"
      ]
    },
    {
      "cell_type": "markdown",
      "source": [
        "Data Type : integer, Float, String, Boolean\n",
        "\n",
        "in python : don't need to specify the data type of a vatiable . pyphon automatically detects the data type based on the value assigned to it.  "
      ],
      "metadata": {
        "id": "S7RFgI8_Cu4-"
      }
    },
    {
      "cell_type": "code",
      "source": [
        "x = 1\n",
        "print(x)"
      ],
      "metadata": {
        "colab": {
          "base_uri": "https://localhost:8080/"
        },
        "id": "jyoi1xcBDg4C",
        "outputId": "2063e592-2290-4c11-e259-db6099c57ba5"
      },
      "execution_count": 2,
      "outputs": [
        {
          "output_type": "stream",
          "name": "stdout",
          "text": [
            "1\n"
          ]
        }
      ]
    },
    {
      "cell_type": "code",
      "source": [
        "y = 3.14\n",
        "print(y)"
      ],
      "metadata": {
        "colab": {
          "base_uri": "https://localhost:8080/"
        },
        "id": "2DWS0e60Dpqa",
        "outputId": "d2432306-9abc-43fc-daad-e6f2840dc3ab"
      },
      "execution_count": 4,
      "outputs": [
        {
          "output_type": "stream",
          "name": "stdout",
          "text": [
            "3.14\n"
          ]
        }
      ]
    },
    {
      "cell_type": "code",
      "source": [
        "z = \"hello world\"\n",
        "print(z)\n",
        "y_str= \"y =\"\n",
        "print(\"y=\", y)\n",
        "print(y_str, y)"
      ],
      "metadata": {
        "colab": {
          "base_uri": "https://localhost:8080/"
        },
        "id": "zQyv8vAXDzHh",
        "outputId": "084bf479-118f-42cf-da84-43364cbd125d"
      },
      "execution_count": 8,
      "outputs": [
        {
          "output_type": "stream",
          "name": "stdout",
          "text": [
            "hello world\n",
            "y= 3.14\n",
            "y = 3.14\n"
          ]
        }
      ]
    },
    {
      "cell_type": "code",
      "source": [
        "w = True #False\n",
        "w_false = False\n",
        "\n",
        "print(\"w is\" , w)\n",
        "print(\"w_false is \", w_false)"
      ],
      "metadata": {
        "colab": {
          "base_uri": "https://localhost:8080/"
        },
        "id": "xTq7kGX3Ex2r",
        "outputId": "12f75d00-ada8-4430-83c9-7ce0389f16e2"
      },
      "execution_count": 9,
      "outputs": [
        {
          "output_type": "stream",
          "name": "stdout",
          "text": [
            "w is True\n",
            "w_false is  False\n"
          ]
        }
      ]
    },
    {
      "cell_type": "markdown",
      "source": [
        "# Operators\n",
        "\n",
        "Arithmetic Operators : + - * / % **\n",
        "\n",
        "Comparison operations : == != > < >= <=\n",
        "\n",
        "Logical operators : and , or, not.\n"
      ],
      "metadata": {
        "id": "8vgdN9RqFP6C"
      }
    },
    {
      "cell_type": "code",
      "source": [
        "a = 5\n",
        "b = 2\n"
      ],
      "metadata": {
        "id": "5Vstj5slF_E9"
      },
      "execution_count": 11,
      "outputs": []
    },
    {
      "cell_type": "code",
      "source": [
        "c =  a + b\n",
        "d = a * b\n",
        "e = a % b\n",
        "print(c,\n",
        "      d,\n",
        "      e)"
      ],
      "metadata": {
        "colab": {
          "base_uri": "https://localhost:8080/"
        },
        "id": "Y5kQRWWhGILT",
        "outputId": "863c3869-4fc2-4e55-c7fd-5377386d257d"
      },
      "execution_count": 14,
      "outputs": [
        {
          "output_type": "stream",
          "name": "stdout",
          "text": [
            "7 10 1\n"
          ]
        }
      ]
    },
    {
      "cell_type": "code",
      "source": [
        "f =  a == b\n",
        "print(\"f\", f)\n",
        "\n",
        "g = a > b\n",
        "print(\"g\", g)\n",
        "\n",
        "h = not g\n",
        "print(\"h\", h)"
      ],
      "metadata": {
        "colab": {
          "base_uri": "https://localhost:8080/"
        },
        "id": "yB1dbpDkGrj2",
        "outputId": "71fe1095-1594-4e52-81c7-f99753fd63b1"
      },
      "execution_count": 19,
      "outputs": [
        {
          "output_type": "stream",
          "name": "stdout",
          "text": [
            "f False\n",
            "g True\n",
            "h False\n"
          ]
        }
      ]
    },
    {
      "cell_type": "markdown",
      "source": [
        "# Python Indentation\n",
        "Python uses whitespace (tabs or space) to define the structure of code blocks.\n",
        "\n",
        "- Indentation should be consistent throunghout your code. Four spaces( but in CA=olab two spaces)\n",
        "- indentatin should be used for all blocks of code, including lopps, functions, and conditional statements,"
      ],
      "metadata": {
        "id": "-GnSMkFAHox_"
      }
    },
    {
      "cell_type": "code",
      "source": [
        "print(\"Start For Loop\")\n",
        "\n",
        "for i in range(5):\n",
        "  print(\"Iteration\", i)\n",
        "  print(\"The square of \", i , \"is\", i**2)\n",
        "\n",
        "print(\"Finished For Loop\")"
      ],
      "metadata": {
        "colab": {
          "base_uri": "https://localhost:8080/"
        },
        "id": "avMqkrjJIeDX",
        "outputId": "6d2e4936-6152-49d7-b66b-48962ee8e320"
      },
      "execution_count": 24,
      "outputs": [
        {
          "output_type": "stream",
          "name": "stdout",
          "text": [
            "Start For Loop\n",
            "Iteration 0\n",
            "The square of  0 is 0\n",
            "Iteration 1\n",
            "The square of  1 is 1\n",
            "Iteration 2\n",
            "The square of  2 is 4\n",
            "Iteration 3\n",
            "The square of  3 is 9\n",
            "Iteration 4\n",
            "The square of  4 is 16\n",
            "Finished For Loop\n"
          ]
        }
      ]
    },
    {
      "cell_type": "markdown",
      "source": [
        "# Lists 배열\n",
        "\n",
        "A list is a collection of values\n",
        "\n",
        "Lists can contain values of different types, such as nubers, strings, and even other lists.\n",
        "\n"
      ],
      "metadata": {
        "id": "dkDPKKx5Jk1k"
      }
    },
    {
      "cell_type": "code",
      "source": [
        "# create a list of integers\n",
        "\n",
        "numbers = [1, 2, 3, 4, 5 ]\n",
        "\n",
        "print(\"numbers=\", numbers)\n",
        "\n"
      ],
      "metadata": {
        "colab": {
          "base_uri": "https://localhost:8080/"
        },
        "id": "CcksqnZyKASq",
        "outputId": "2837b7d4-baa0-417e-c6d8-750c818fa5f5"
      },
      "execution_count": 27,
      "outputs": [
        {
          "output_type": "stream",
          "name": "stdout",
          "text": [
            "numbers= [1, 2, 3, 4, 5]\n"
          ]
        }
      ]
    },
    {
      "cell_type": "code",
      "source": [
        "# create a list of Strings\n",
        "\n",
        "fruits = [\"apple\", \"banana\", \"cherry\"]\n",
        "\n",
        "print(\"fruits =\", fruits)"
      ],
      "metadata": {
        "colab": {
          "base_uri": "https://localhost:8080/"
        },
        "id": "gvQuBhqlKbFO",
        "outputId": "ca0dbf52-7001-4b42-c70d-e982ac6e892f"
      },
      "execution_count": 31,
      "outputs": [
        {
          "output_type": "stream",
          "name": "stdout",
          "text": [
            "fruits = ['apple', 'banana', 'cherry']\n"
          ]
        }
      ]
    },
    {
      "cell_type": "code",
      "source": [
        "# create a list of mixed types\n",
        "\n",
        "mixed = [1, \"apple\", True, 2.5]\n",
        "\n",
        "print(\"mixed = \", mixed)"
      ],
      "metadata": {
        "colab": {
          "base_uri": "https://localhost:8080/"
        },
        "id": "Byh5T8jJK5VH",
        "outputId": "6be9efd6-b13d-4e6b-db08-bf9689b15641"
      },
      "execution_count": 32,
      "outputs": [
        {
          "output_type": "stream",
          "name": "stdout",
          "text": [
            "mixed =  [1, 'apple', True, 2.5]\n"
          ]
        }
      ]
    },
    {
      "cell_type": "code",
      "source": [
        "#Accessing LIst Elements\n",
        "\n",
        "print(fruits[0])\n",
        "print(fruits[1])\n",
        "print(fruits[2])"
      ],
      "metadata": {
        "colab": {
          "base_uri": "https://localhost:8080/"
        },
        "id": "C7GyP5SoLQML",
        "outputId": "ec85086d-d2e8-4435-f715-1711f61c6d17"
      },
      "execution_count": 34,
      "outputs": [
        {
          "output_type": "stream",
          "name": "stdout",
          "text": [
            "apple\n",
            "banana\n",
            "cherry\n"
          ]
        }
      ]
    },
    {
      "cell_type": "code",
      "source": [
        "#Negative indexing\n",
        "\n",
        "\n",
        "print(fruits[-1])\n",
        "print(fruits[-2])\n",
        "print(fruits[-3])"
      ],
      "metadata": {
        "colab": {
          "base_uri": "https://localhost:8080/"
        },
        "id": "WwGZ7ccmLuyy",
        "outputId": "30359bfc-2254-46e9-a294-124a8b727457"
      },
      "execution_count": 36,
      "outputs": [
        {
          "output_type": "stream",
          "name": "stdout",
          "text": [
            "cherry\n",
            "banana\n",
            "apple\n"
          ]
        }
      ]
    },
    {
      "cell_type": "code",
      "source": [
        "# Slicing Lists\n",
        "\n",
        "integers = [0, 1, 2, 3, 4]\n",
        "print(integers[1:3]) # list [start;end]\n",
        "\n",
        "print(integers[0:3])# notice\n",
        "print(integers[:3])\n",
        "print(integers[0:3])\n",
        "print(integers[-3:-1])"
      ],
      "metadata": {
        "colab": {
          "base_uri": "https://localhost:8080/"
        },
        "id": "YtaWkX-XMFGs",
        "outputId": "9ad9c177-70d6-4598-d28a-2f21a41457d2"
      },
      "execution_count": 40,
      "outputs": [
        {
          "output_type": "stream",
          "name": "stdout",
          "text": [
            "[1, 2]\n",
            "[0, 1, 2]\n",
            "[0, 1, 2]\n",
            "[0, 1, 2]\n",
            "[2, 3]\n"
          ]
        }
      ]
    },
    {
      "cell_type": "code",
      "source": [],
      "metadata": {
        "id": "H4eN0F9KOOXX"
      },
      "execution_count": null,
      "outputs": []
    }
  ]
}